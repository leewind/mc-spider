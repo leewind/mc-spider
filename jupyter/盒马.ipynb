{
 "cells": [
  {
   "cell_type": "markdown",
   "metadata": {},
   "source": [
    "GET /gw/mtop.wdk.alipay.address.getbygeocode/1.0?rnd=4438C30A1A07B266FB4369F9B590FA63&data=%7B%22geoCode%22%3A%22121.383110%2C31.233896%22%2C%22channelCode%22%3A%22SG_APPLETS%22%2C%22shopType%22%3A%220%22%7D HTTP/1.1\n",
    "Host: guide-acs.m.taobao.com\n",
    "x-app-conf-v: 0\n",
    "x-bx-version: 6.0.0.MiddleTier\n",
    "x-pv: 6.2\n",
    "User-Agent: MTOPSDK%2F1.9.3.48%20%28iOS%3B12.4.8%3BApple%3BiPhone7%2C2%29\n",
    "x-c-traceid: V%2F40bbZH1tgDAGsKOYr0sPBt1603291621001716645\n",
    "x-page-name: TBHomeViewController\n",
    "Cookie: thw=cn; _cc_=UtASsssmfA%3D%3D; _l_g_=Ug%3D%3D; _nk_=leewind19841209; _tb_token_=e9e3ee3e88b4e; cookie1=AVxBChV427lfB21cyjSBSZWBz7t2PGm0mdAFnvKTzos%3D; cookie17=VvqhxIL0NhQ%3D; cookie2=12b14386c201d081a4e3230db0af2f9b; csg=edb9f682; dnk=leewind19841209; lgc=leewind19841209; lid=; munb=54712672; sg=92d; sgcookie=W100oIZulGRWBuHm97sClv7JgSq4MQaBSFX4%2F%2FNgz85%2Fo4I%2BOZ9832OTrTQIbso8y%2B8myxn51Aqw8YNT2PHOMPicfgtb6Bs8lRw4Yu9IzNgkLAE%3D; skt=4a987fa5b8be2152; sn=; t=2bf982f06fd8b274cb173070ad80233e; tbcp=f=UUjZel14vzievqF48WXUvZ3QWn4%3D&e=D8bhXSwMSi6sMrgQOrmTdtt990%2Fn; ti=; tracknick=leewind19841209; uc1=cookie15=URm48syIIVrSKA%3D%3D&cookie14=Uoe0bktMOsUeUw%3D%3D&existShop=false&cookie21=U%2BGCWk%2F7owVBK2HhnIHh%2FQ%3D%3D; uc3=lg2=VFC%2FuZ9ayeYq2g%3D%3D&vt3=F8dCufHJmBw9cQwQZ4k%3D&nk2=D8bhXSwMSid6K0dgSvSX&id2=VvqhxIL0NhQ%3D; uc4=id4=0%40VHysPDo%2B0JYdKtp3x0lfx4SL1g%3D%3D&nk4=0%40DeV%2BgYowSOOn3n0Pa%2BMSjB%2FRQn%2FABrecsqc%3D; unb=54712672\n",
    "f-refer: mtop\n",
    "x-app-ver: 10.2.6\n",
    "x-utdid: V%2F40bbZH1tgDAGsKOYr0sPBt\n",
    "x-uid: 54712672\n",
    "x-devid: AtJ-E8A2Atj7w4mDYMRfs743g4i7Ok5EXzSk3RSqSWRv\n",
    "x-cmd-v: 0%7C0\n",
    "Connection: keep-alive\n",
    "x-sign: ib20cc0010e84cb7b6d6e0b839766d38c3a7c3985654f52dd5\n",
    "x-mini-wua: HHnB_HQwpFHe4w4%2FB6wHMF5n%2Fs5dQNKFBzvl%2B%2F49PHrUTusUU4NY5IAaEVlUdl0qtVMEEISMNirsJCN5DK%2Boqgmn7oOCXfp6g9dwVWJfNAi5G9%2FAKX5ABTYPs1%2Ffe9EZN8GpF\n",
    "x-appkey: 23086819\n",
    "x-sid: 12b14386c201d081a4e3230db0af2f9b\n",
    "x-features: 11\n",
    "x-umt: Bz9L3yVLOlCnbTUAAEmjYScTAADOWkkI\n",
    "Accept-Language: zh-cn\n",
    "c-launch-info: (null),0,1603291621387.472,0\n",
    "Accept: */*\n",
    "Content-Type: application/x-www-form-urlencoded; charset=utf-8\n",
    "x-ttid: miniapp_alipay_2019091667452077_23230111%40hmxs_iPhone_4.50.6\n",
    "Accept-Encoding: br, gzip, deflate\n",
    "x-t: 1603291621\n",
    "\n"
   ]
  },
  {
   "cell_type": "code",
   "execution_count": null,
   "metadata": {},
   "outputs": [],
   "source": []
  }
 ],
 "metadata": {
  "kernelspec": {
   "display_name": "Python 3",
   "language": "python",
   "name": "python3"
  },
  "language_info": {
   "codemirror_mode": {
    "name": "ipython",
    "version": 3
   },
   "file_extension": ".py",
   "mimetype": "text/x-python",
   "name": "python",
   "nbconvert_exporter": "python",
   "pygments_lexer": "ipython3",
   "version": "3.7.4"
  }
 },
 "nbformat": 4,
 "nbformat_minor": 2
}
