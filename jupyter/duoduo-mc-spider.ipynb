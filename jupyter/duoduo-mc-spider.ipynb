{
 "cells": [
  {
   "cell_type": "code",
   "execution_count": 1,
   "metadata": {},
   "outputs": [],
   "source": [
    "import requests"
   ]
  },
  {
   "cell_type": "code",
   "execution_count": 4,
   "metadata": {},
   "outputs": [
    {
     "ename": "SyntaxError",
     "evalue": "invalid syntax (<ipython-input-4-1cd54bf91466>, line 21)",
     "output_type": "error",
     "traceback": [
      "\u001b[0;36m  File \u001b[0;32m\"<ipython-input-4-1cd54bf91466>\"\u001b[0;36m, line \u001b[0;32m21\u001b[0m\n\u001b[0;31m    payload = {\"open_app_source\":1006,\"wxapp_uuid\":\"rrwn1hoewnr8wh204md388dkmirt10iq\",\"anti_content\":\"3ajeJwNw8sJhTAQBdB7FRUsQrAAIYkxGStx48b3_K-tyf5sQJwDh1ADEk76p_961gtqrpWzrYm98b2IeNfFxgZjozgjIQSPklsBXs_9Psi4JwRSHkDOM0U5fnl2D0o\",\"lng\":117.13928985595703,\"lat\":39.124141693115234,\"xcx_version\":\"0.0.40\"}}\u001b[0m\n\u001b[0m                                                                                                                                                                                                                                                                                                               ^\u001b[0m\n\u001b[0;31mSyntaxError\u001b[0m\u001b[0;31m:\u001b[0m invalid syntax\n"
     ]
    }
   ],
   "source": [
    "url = \"https://api.pinduoduo.com/api/mc/v1/user/location_decode\"\n",
    "\n",
    "headers = {\n",
    "#     \":method\":\"POST\",\n",
    "#     \":scheme\":\"https\",\n",
    "#     \":path\":\"/api/mc/v1/user/location_decode\",\n",
    "#     \":authority\":\"api.pinduoduo.com\",\n",
    "    \"content-type\": \"application/json\",\n",
    "    \"accept\": \"*/*\",\n",
    "    \"accept-language\": \"zh-cn\",\n",
    "    \"accesstoken\": \"R7LWUOIZPKHE7IIOLFQNGFO4X3KBYCATHHJMTJ4ADAELXEVJJQPA111b2c4\",\n",
    "    \"cache-control\": \"no-cache\",\n",
    "    \"accept-encoding\": \"br,gzip,deflate\",\n",
    "    \"referer\": \"https://servicewechat.com/wxd9813e0a0d4d4156/46/page-frame.html\",\n",
    "    \"user-agent\": \"Mozilla/5.0 (iPhone; CPU iPhone OS 12_4_8 like Mac OS X) AppleWebKit/605.1.15 (KHTML, like Gecko) Mobile/15E148 MicroMessenger/7.0.15(0x17000f31) NetType/WIFI Language/zh_CN\",\n",
    "    \"code-version\": \"0.0.40\",\n",
    "    \"verifyauthtoken\": \"\",\n",
    "    \"p-appname\": \"mobile-xcx-vegetable\"\n",
    "}\n",
    "\n",
    "payload = {\"open_app_source\":1006,\"wxapp_uuid\":\"rrwn1hoewnr8wh204md388dkmirt10iq\",\"anti_content\":\"3ajeJwNw8sJhTAQBdB7FRUsQrAAIYkxGStx48b3_K-tyf5sQJwDh1ADEk76p_961gtqrpWzrYm98b2IeNfFxgZjozgjIQSPklsBXs_9Psi4JwRSHkDOM0U5fnl2D0o\",\"lng\":117.13928985595703,\"lat\":39.124141693115234,\"xcx_version\":\"0.0.40\"}\n",
    "\n",
    "# headers['content-length'] = str(len(json.dumps(payload)))\n",
    "r = requests.post(url, json=payload,  headers=headers)\n",
    "json.loads(r.text)"
   ]
  },
  {
   "cell_type": "code",
   "execution_count": 56,
   "metadata": {},
   "outputs": [],
   "source": [
    "import hashlib \n",
    "\n",
    "\n",
    "payload = {\n",
    "    \"open_app_source\": 1001,\n",
    "    \"wxapp_uuid\": \"irqnpnchtzstamua6d4783c1fxgb9hpy\",\n",
    "    \"lng\": 117.13920593261719,\n",
    "    \"lat\": 39.12416076660156,\n",
    "    \"xcx_version\": \"0.0.40\"\n",
    "}\n",
    "\n",
    "\n",
    "\n",
    "result = hashlib.md5(str.encode(json.dumps(payload))) \n"
   ]
  },
  {
   "cell_type": "code",
   "execution_count": 57,
   "metadata": {},
   "outputs": [
    {
     "data": {
      "text/plain": [
       "'{\"open_app_source\": 1001, \"wxapp_uuid\": \"irqnpnchtzstamua6d4783c1fxgb9hpy\", \"lng\": 117.13920593261719, \"lat\": 39.12416076660156, \"xcx_version\": \"0.0.40\"}'"
      ]
     },
     "execution_count": 57,
     "metadata": {},
     "output_type": "execute_result"
    }
   ],
   "source": [
    "json.dumps(payload)"
   ]
  },
  {
   "cell_type": "code",
   "execution_count": 22,
   "metadata": {},
   "outputs": [
    {
     "data": {
      "text/plain": [
       "'b39dcb2f7799e3b299e001d7bf432af8'"
      ]
     },
     "execution_count": 22,
     "metadata": {},
     "output_type": "execute_result"
    }
   ],
   "source": [
    "result.hexdigest()"
   ]
  },
  {
   "cell_type": "code",
   "execution_count": 23,
   "metadata": {},
   "outputs": [],
   "source": [
    "reverse_list = sorted([(k, str(v)) for k, v in payload.items()], key=lambda x:x[0])\n",
    "reverse_list_str = list(map(lambda x: \"\".join(x), reverse_list))\n",
    "params = \"\".join(reverse_list_str)"
   ]
  },
  {
   "cell_type": "code",
   "execution_count": 24,
   "metadata": {},
   "outputs": [
    {
     "data": {
      "text/plain": [
       "'lat39.12416076660156lng117.13920593261719open_app_source1001wxapp_uuidirqnpnchtzstamua6d4783c1fxgb9hpyxcx_version0.0.40'"
      ]
     },
     "execution_count": 24,
     "metadata": {},
     "output_type": "execute_result"
    }
   ],
   "source": [
    "params"
   ]
  },
  {
   "cell_type": "code",
   "execution_count": 26,
   "metadata": {},
   "outputs": [
    {
     "data": {
      "text/plain": [
       "'B051A191390B45BFF24BF53A935AFF94'"
      ]
     },
     "execution_count": 26,
     "metadata": {},
     "output_type": "execute_result"
    }
   ],
   "source": [
    "hl = hashlib.md5()\n",
    "hl.update(params.encode(encoding='utf-8'))\n",
    "hl.hexdigest().upper()"
   ]
  },
  {
   "cell_type": "code",
   "execution_count": 29,
   "metadata": {},
   "outputs": [
    {
     "data": {
      "text/plain": [
       "'3B1629D120D96735DBFF5B602EDB29DE'"
      ]
     },
     "execution_count": 29,
     "metadata": {},
     "output_type": "execute_result"
    }
   ],
   "source": [
    "hl = hashlib.md5()\n",
    "hl.update(b\"R7LWUOIZPKHE7IIOLFQNGFO4X3KBYCATHHJMTJ4ADAELXEVJJQPA111b2c4\")\n",
    "hl.hexdigest().upper()\n",
    "\n"
   ]
  },
  {
   "cell_type": "code",
   "execution_count": null,
   "metadata": {},
   "outputs": [],
   "source": []
  }
 ],
 "metadata": {
  "kernelspec": {
   "display_name": "Python 3",
   "language": "python",
   "name": "python3"
  },
  "language_info": {
   "codemirror_mode": {
    "name": "ipython",
    "version": 3
   },
   "file_extension": ".py",
   "mimetype": "text/x-python",
   "name": "python",
   "nbconvert_exporter": "python",
   "pygments_lexer": "ipython3",
   "version": "3.7.4"
  }
 },
 "nbformat": 4,
 "nbformat_minor": 2
}
