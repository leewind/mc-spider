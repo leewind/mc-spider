{
 "cells": [
  {
   "cell_type": "code",
   "execution_count": 1,
   "metadata": {},
   "outputs": [],
   "source": [
    "from shapely import wkt\n",
    "from shapely.geometry import Point\n",
    "import geojson\n",
    "import pandas as pd\n",
    "import numpy as np\n",
    "import keplergl\n",
    "from odps.df import DataFrame\n",
    "from util import GisTransform\n",
    "import json\n",
    "from shapely.geometry import MultiPoint, Polygon, MultiPolygon, Point\n",
    "import geopandas\n",
    "import hashlib\n",
    "\n",
    "gis = GisTransform('wgs84', 'gcj02')"
   ]
  },
  {
   "cell_type": "code",
   "execution_count": 2,
   "metadata": {},
   "outputs": [],
   "source": [
    "partial = pd.read_csv('spider.csv')\n",
    "df = pd.read_csv('temp_dw_ai_normal_deliver_range_aoi_basic_chengdu_20200929_1601451326255.txt')"
   ]
  },
  {
   "cell_type": "code",
   "execution_count": 3,
   "metadata": {},
   "outputs": [
    {
     "data": {
      "text/html": [
       "<div>\n",
       "<style scoped>\n",
       "    .dataframe tbody tr th:only-of-type {\n",
       "        vertical-align: middle;\n",
       "    }\n",
       "\n",
       "    .dataframe tbody tr th {\n",
       "        vertical-align: top;\n",
       "    }\n",
       "\n",
       "    .dataframe thead th {\n",
       "        text-align: right;\n",
       "    }\n",
       "</style>\n",
       "<table border=\"1\" class=\"dataframe\">\n",
       "  <thead>\n",
       "    <tr style=\"text-align: right;\">\n",
       "      <th></th>\n",
       "      <th>id</th>\n",
       "      <th>geohash</th>\n",
       "      <th>is_dispatch</th>\n",
       "    </tr>\n",
       "  </thead>\n",
       "  <tbody>\n",
       "    <tr>\n",
       "      <td>0</td>\n",
       "      <td>B001C8VMWD</td>\n",
       "      <td>wm3vy8</td>\n",
       "      <td>1.0</td>\n",
       "    </tr>\n",
       "    <tr>\n",
       "      <td>1</td>\n",
       "      <td>B0FFJ7UHWY</td>\n",
       "      <td>wm3vy8</td>\n",
       "      <td>1.0</td>\n",
       "    </tr>\n",
       "    <tr>\n",
       "      <td>2</td>\n",
       "      <td>B001C7UWK4</td>\n",
       "      <td>wm3vy8</td>\n",
       "      <td>1.0</td>\n",
       "    </tr>\n",
       "    <tr>\n",
       "      <td>3</td>\n",
       "      <td>B001C8X2IQ</td>\n",
       "      <td>wm3vy8</td>\n",
       "      <td>1.0</td>\n",
       "    </tr>\n",
       "    <tr>\n",
       "      <td>4</td>\n",
       "      <td>B0FFGKP5IZ</td>\n",
       "      <td>wm3vy8</td>\n",
       "      <td>1.0</td>\n",
       "    </tr>\n",
       "    <tr>\n",
       "      <td>...</td>\n",
       "      <td>...</td>\n",
       "      <td>...</td>\n",
       "      <td>...</td>\n",
       "    </tr>\n",
       "    <tr>\n",
       "      <td>10154</td>\n",
       "      <td>B001C7WRXZ</td>\n",
       "      <td>wm3ywg</td>\n",
       "      <td>1.0</td>\n",
       "    </tr>\n",
       "    <tr>\n",
       "      <td>10155</td>\n",
       "      <td>B001C80QAX</td>\n",
       "      <td>wm3ywg</td>\n",
       "      <td>1.0</td>\n",
       "    </tr>\n",
       "    <tr>\n",
       "      <td>10156</td>\n",
       "      <td>B001C8081D</td>\n",
       "      <td>wm3ywg</td>\n",
       "      <td>1.0</td>\n",
       "    </tr>\n",
       "    <tr>\n",
       "      <td>10157</td>\n",
       "      <td>B001C80FS2</td>\n",
       "      <td>wm3ywg</td>\n",
       "      <td>1.0</td>\n",
       "    </tr>\n",
       "    <tr>\n",
       "      <td>10158</td>\n",
       "      <td>B001C7WBYC</td>\n",
       "      <td>wm3ywg</td>\n",
       "      <td>1.0</td>\n",
       "    </tr>\n",
       "  </tbody>\n",
       "</table>\n",
       "<p>10159 rows × 3 columns</p>\n",
       "</div>"
      ],
      "text/plain": [
       "               id geohash  is_dispatch\n",
       "0      B001C8VMWD  wm3vy8          1.0\n",
       "1      B0FFJ7UHWY  wm3vy8          1.0\n",
       "2      B001C7UWK4  wm3vy8          1.0\n",
       "3      B001C8X2IQ  wm3vy8          1.0\n",
       "4      B0FFGKP5IZ  wm3vy8          1.0\n",
       "...           ...     ...          ...\n",
       "10154  B001C7WRXZ  wm3ywg          1.0\n",
       "10155  B001C80QAX  wm3ywg          1.0\n",
       "10156  B001C8081D  wm3ywg          1.0\n",
       "10157  B001C80FS2  wm3ywg          1.0\n",
       "10158  B001C7WBYC  wm3ywg          1.0\n",
       "\n",
       "[10159 rows x 3 columns]"
      ]
     },
     "execution_count": 3,
     "metadata": {},
     "output_type": "execute_result"
    }
   ],
   "source": [
    "partial"
   ]
  },
  {
   "cell_type": "code",
   "execution_count": 4,
   "metadata": {},
   "outputs": [],
   "source": [
    "m = pd.merge(partial, df[['id', 'shape', 'name']], on='id', how='inner')"
   ]
  },
  {
   "cell_type": "code",
   "execution_count": 12,
   "metadata": {},
   "outputs": [],
   "source": [
    "pd.merge(partial, df[['id', 'name']], on='id', how='inner').to_csv('report.csv', index=False)"
   ]
  },
  {
   "cell_type": "code",
   "execution_count": 5,
   "metadata": {},
   "outputs": [],
   "source": [
    "def transfer_to_geojson(poly):\n",
    "    if isinstance(poly, float):\n",
    "        return None\n",
    "    \n",
    "    points = []\n",
    "    for item in poly.split(';'):\n",
    "        arr = item.split(',')\n",
    "        pair = gis.gcj02_to_wgs84(float(arr[0]), float(arr[1]))\n",
    "        points.append([pair[0], pair[1]])\n",
    "\n",
    "    polygon = {\n",
    "      \"type\": \"Feature\",\n",
    "      \"geometry\": {\n",
    "        \"type\": \"Polygon\",\n",
    "        \"coordinates\": [points]\n",
    "      },\n",
    "      \"properties\": {\n",
    "        \"name\": \"shop delivery area\"\n",
    "      }\n",
    "    }\n",
    "    \n",
    "    return polygon"
   ]
  },
  {
   "cell_type": "code",
   "execution_count": 6,
   "metadata": {},
   "outputs": [],
   "source": [
    "m['geojson'] = m['shape'].apply(lambda item: transfer_to_geojson(item))"
   ]
  },
  {
   "cell_type": "code",
   "execution_count": 7,
   "metadata": {},
   "outputs": [
    {
     "data": {
      "text/plain": [
       "{'type': 'Feature',\n",
       " 'geometry': {'type': 'Polygon',\n",
       "  'coordinates': [[[104.00081192359815, 30.546598653148358],\n",
       "    [104.00060766280795, 30.546955157172427],\n",
       "    [104.00004774178247, 30.546738933624667],\n",
       "    [104.00024901477877, 30.54634944924044],\n",
       "    [104.00081192359815, 30.546598653148358]]]},\n",
       " 'properties': {'name': 'shop delivery area'}}"
      ]
     },
     "execution_count": 7,
     "metadata": {},
     "output_type": "execute_result"
    }
   ],
   "source": [
    "m[m['is_dispatch']==1].iloc[0]['geojson']"
   ]
  },
  {
   "cell_type": "code",
   "execution_count": 8,
   "metadata": {},
   "outputs": [
    {
     "name": "stdout",
     "output_type": "stream",
     "text": [
      "User Guide: https://github.com/keplergl/kepler.gl/blob/master/docs/keplergl-jupyter/user-guide.md\n"
     ]
    },
    {
     "data": {
      "application/vnd.jupyter.widget-view+json": {
       "model_id": "9b20c59af0154e398a42b3434173b285",
       "version_major": 2,
       "version_minor": 0
      },
      "text/plain": [
       "KeplerGl(data={'cover region': {'index': [0, 1, 2, 3, 4, 5, 6, 7, 8, 9, 10, 11, 12, 13, 14, 15, 16, 17, 18, 19…"
      ]
     },
     "metadata": {},
     "output_type": "display_data"
    }
   ],
   "source": [
    "amap = keplergl.KeplerGl(height=800)  \n",
    "amap.add_data(data=m[m['is_dispatch']==1], name='cover region')\n",
    "amap"
   ]
  },
  {
   "cell_type": "code",
   "execution_count": 10,
   "metadata": {},
   "outputs": [
    {
     "name": "stdout",
     "output_type": "stream",
     "text": [
      "Map saved to keplergl_map.html!\n"
     ]
    }
   ],
   "source": [
    "amap.save_to_html()"
   ]
  },
  {
   "cell_type": "code",
   "execution_count": null,
   "metadata": {},
   "outputs": [],
   "source": []
  }
 ],
 "metadata": {
  "kernelspec": {
   "display_name": "Python 3",
   "language": "python",
   "name": "python3"
  },
  "language_info": {
   "codemirror_mode": {
    "name": "ipython",
    "version": 3
   },
   "file_extension": ".py",
   "mimetype": "text/x-python",
   "name": "python",
   "nbconvert_exporter": "python",
   "pygments_lexer": "ipython3",
   "version": "3.7.4"
  }
 },
 "nbformat": 4,
 "nbformat_minor": 2
}
