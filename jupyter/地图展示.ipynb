{
 "cells": [
  {
   "cell_type": "code",
   "execution_count": 2,
   "metadata": {},
   "outputs": [],
   "source": [
    "from shapely import wkt\n",
    "from shapely.geometry import Point\n",
    "import geojson\n",
    "import pandas as pd\n",
    "import numpy as np\n",
    "import keplergl\n",
    "from odps.df import DataFrame\n",
    "from util import GisTransform\n",
    "import json\n",
    "from shapely.geometry import MultiPoint, Polygon, MultiPolygon, Point\n",
    "import geopandas\n",
    "import hashlib\n",
    "\n",
    "gis = GisTransform('wgs84', 'gcj02')"
   ]
  },
  {
   "cell_type": "code",
   "execution_count": 14,
   "metadata": {},
   "outputs": [],
   "source": [
    "partial = pd.read_csv('dd_spider.csv')\n",
    "df = pd.read_csv('temp_dw_ai_normal_deliver_range_aoi_basic_shaoxing_20201011_1603284421564.txt')"
   ]
  },
  {
   "cell_type": "code",
   "execution_count": 5,
   "metadata": {},
   "outputs": [],
   "source": [
    "# partial = partial.dropna()"
   ]
  },
  {
   "cell_type": "code",
   "execution_count": 15,
   "metadata": {},
   "outputs": [],
   "source": [
    "m = pd.merge(partial, df[['id', 'shape', 'name']], on='id', how='inner')"
   ]
  },
  {
   "cell_type": "code",
   "execution_count": 16,
   "metadata": {},
   "outputs": [],
   "source": [
    "pd.merge(partial, df[['id', 'name']], on='id', how='inner').to_csv('report.csv', index=False)"
   ]
  },
  {
   "cell_type": "code",
   "execution_count": 17,
   "metadata": {},
   "outputs": [],
   "source": [
    "def transfer_to_geojson(poly):\n",
    "    if isinstance(poly, float):\n",
    "        return None\n",
    "    \n",
    "    points = []\n",
    "    for item in poly.split(';'):\n",
    "        arr = item.split(',')\n",
    "        pair = gis.gcj02_to_wgs84(float(arr[0]), float(arr[1]))\n",
    "        points.append([pair[0], pair[1]])\n",
    "\n",
    "    polygon = {\n",
    "      \"type\": \"Feature\",\n",
    "      \"geometry\": {\n",
    "        \"type\": \"Polygon\",\n",
    "        \"coordinates\": [points]\n",
    "      },\n",
    "      \"properties\": {\n",
    "        \"name\": \"shop delivery area\"\n",
    "      }\n",
    "    }\n",
    "    \n",
    "    return polygon"
   ]
  },
  {
   "cell_type": "code",
   "execution_count": 18,
   "metadata": {},
   "outputs": [],
   "source": [
    "m['geojson'] = m['shape'].apply(lambda item: transfer_to_geojson(item))"
   ]
  },
  {
   "cell_type": "code",
   "execution_count": 19,
   "metadata": {},
   "outputs": [
    {
     "data": {
      "text/plain": [
       "{'type': 'Feature',\n",
       " 'geometry': {'type': 'Polygon',\n",
       "  'coordinates': [[[120.50551820057288, 30.041364771203234],\n",
       "    [120.50575009131082, 30.041208458122718],\n",
       "    [120.5058173463996, 30.04120265695768],\n",
       "    [120.50614960542173, 30.041179638659454],\n",
       "    [120.50622790259276, 30.04116586992741],\n",
       "    [120.50693150133729, 30.041904938991593],\n",
       "    [120.5067969852669, 30.042011541825236],\n",
       "    [120.50690538462399, 30.042133860264773],\n",
       "    [120.50648678416997, 30.04238562431396],\n",
       "    [120.50551820057288, 30.041364771203234]]]},\n",
       " 'properties': {'name': 'shop delivery area'}}"
      ]
     },
     "execution_count": 19,
     "metadata": {},
     "output_type": "execute_result"
    }
   ],
   "source": [
    "m[m['is_dispatch']==1].iloc[0]['geojson']"
   ]
  },
  {
   "cell_type": "code",
   "execution_count": 20,
   "metadata": {},
   "outputs": [
    {
     "data": {
      "text/html": [
       "<div>\n",
       "<style scoped>\n",
       "    .dataframe tbody tr th:only-of-type {\n",
       "        vertical-align: middle;\n",
       "    }\n",
       "\n",
       "    .dataframe tbody tr th {\n",
       "        vertical-align: top;\n",
       "    }\n",
       "\n",
       "    .dataframe thead th {\n",
       "        text-align: right;\n",
       "    }\n",
       "</style>\n",
       "<table border=\"1\" class=\"dataframe\">\n",
       "  <thead>\n",
       "    <tr style=\"text-align: right;\">\n",
       "      <th></th>\n",
       "      <th>id</th>\n",
       "      <th>geohash</th>\n",
       "      <th>is_dispatch</th>\n",
       "      <th>station_id</th>\n",
       "      <th>shape</th>\n",
       "      <th>name</th>\n",
       "      <th>geojson</th>\n",
       "    </tr>\n",
       "  </thead>\n",
       "  <tbody>\n",
       "    <tr>\n",
       "      <td>0</td>\n",
       "      <td>B0FFH1NC1J</td>\n",
       "      <td>wtmdyh</td>\n",
       "      <td>1</td>\n",
       "      <td>5ce7760e25e1f7d35e8b456a</td>\n",
       "      <td>120.509794,30.038877;120.510025,30.03872;120.5...</td>\n",
       "      <td>梅和家园</td>\n",
       "      <td>{'type': 'Feature', 'geometry': {'type': 'Poly...</td>\n",
       "    </tr>\n",
       "    <tr>\n",
       "      <td>1</td>\n",
       "      <td>B0FFG0WSHU</td>\n",
       "      <td>wtmdyh</td>\n",
       "      <td>1</td>\n",
       "      <td>5ce7760e25e1f7d35e8b456a</td>\n",
       "      <td>120.505462,30.034673;120.506363,30.035623;120....</td>\n",
       "      <td>澄海嘉园</td>\n",
       "      <td>{'type': 'Feature', 'geometry': {'type': 'Poly...</td>\n",
       "    </tr>\n",
       "    <tr>\n",
       "      <td>2</td>\n",
       "      <td>B023F0PO7J</td>\n",
       "      <td>wtmdyh</td>\n",
       "      <td>1</td>\n",
       "      <td>5ce7760e25e1f7d35e8b456a</td>\n",
       "      <td>120.509203,30.03662;120.509778,30.037162;120.5...</td>\n",
       "      <td>西泽经济合作社工业园区</td>\n",
       "      <td>{'type': 'Feature', 'geometry': {'type': 'Poly...</td>\n",
       "    </tr>\n",
       "    <tr>\n",
       "      <td>3</td>\n",
       "      <td>B0FFGIWH7O</td>\n",
       "      <td>wtmdyh</td>\n",
       "      <td>1</td>\n",
       "      <td>5ce7760e25e1f7d35e8b456a</td>\n",
       "      <td>120.505797,30.038429;120.505669,30.03851;120.5...</td>\n",
       "      <td>浙江富美园</td>\n",
       "      <td>{'type': 'Feature', 'geometry': {'type': 'Poly...</td>\n",
       "    </tr>\n",
       "    <tr>\n",
       "      <td>4</td>\n",
       "      <td>B023F0Q9NQ</td>\n",
       "      <td>wtmdyh</td>\n",
       "      <td>1</td>\n",
       "      <td>5ce7760e25e1f7d35e8b456a</td>\n",
       "      <td>120.503386,30.033982;120.504205,30.034769;120....</td>\n",
       "      <td>澄海小学</td>\n",
       "      <td>{'type': 'Feature', 'geometry': {'type': 'Poly...</td>\n",
       "    </tr>\n",
       "  </tbody>\n",
       "</table>\n",
       "</div>"
      ],
      "text/plain": [
       "           id geohash  is_dispatch                station_id  \\\n",
       "0  B0FFH1NC1J  wtmdyh            1  5ce7760e25e1f7d35e8b456a   \n",
       "1  B0FFG0WSHU  wtmdyh            1  5ce7760e25e1f7d35e8b456a   \n",
       "2  B023F0PO7J  wtmdyh            1  5ce7760e25e1f7d35e8b456a   \n",
       "3  B0FFGIWH7O  wtmdyh            1  5ce7760e25e1f7d35e8b456a   \n",
       "4  B023F0Q9NQ  wtmdyh            1  5ce7760e25e1f7d35e8b456a   \n",
       "\n",
       "                                               shape         name  \\\n",
       "0  120.509794,30.038877;120.510025,30.03872;120.5...         梅和家园   \n",
       "1  120.505462,30.034673;120.506363,30.035623;120....         澄海嘉园   \n",
       "2  120.509203,30.03662;120.509778,30.037162;120.5...  西泽经济合作社工业园区   \n",
       "3  120.505797,30.038429;120.505669,30.03851;120.5...        浙江富美园   \n",
       "4  120.503386,30.033982;120.504205,30.034769;120....         澄海小学   \n",
       "\n",
       "                                             geojson  \n",
       "0  {'type': 'Feature', 'geometry': {'type': 'Poly...  \n",
       "1  {'type': 'Feature', 'geometry': {'type': 'Poly...  \n",
       "2  {'type': 'Feature', 'geometry': {'type': 'Poly...  \n",
       "3  {'type': 'Feature', 'geometry': {'type': 'Poly...  \n",
       "4  {'type': 'Feature', 'geometry': {'type': 'Poly...  "
      ]
     },
     "execution_count": 20,
     "metadata": {},
     "output_type": "execute_result"
    }
   ],
   "source": [
    "m.head()"
   ]
  },
  {
   "cell_type": "code",
   "execution_count": 21,
   "metadata": {},
   "outputs": [
    {
     "name": "stdout",
     "output_type": "stream",
     "text": [
      "User Guide: https://github.com/keplergl/kepler.gl/blob/master/docs/keplergl-jupyter/user-guide.md\n"
     ]
    },
    {
     "data": {
      "application/vnd.jupyter.widget-view+json": {
       "model_id": "a46182945250430fa3a1a9ab384d0cde",
       "version_major": 2,
       "version_minor": 0
      },
      "text/plain": [
       "KeplerGl(data={'5ce7760e25e1f7d35e8b456a': {'index': [0, 1, 2, 3, 4, 5, 268, 269, 270, 271, 272, 273, 274, 275…"
      ]
     },
     "metadata": {},
     "output_type": "display_data"
    }
   ],
   "source": [
    "amap = keplergl.KeplerGl(height=800)  \n",
    "\n",
    "stations = m['station_id'].drop_duplicates().values\n",
    "for station_id in stations:\n",
    "    amap.add_data(data=m[m['station_id']==station_id], name=station_id)\n",
    "    \n",
    "amap"
   ]
  },
  {
   "cell_type": "code",
   "execution_count": 13,
   "metadata": {},
   "outputs": [
    {
     "name": "stdout",
     "output_type": "stream",
     "text": [
      "Map saved to keplergl_map.html!\n"
     ]
    }
   ],
   "source": [
    "amap.save_to_html()"
   ]
  },
  {
   "cell_type": "code",
   "execution_count": 22,
   "metadata": {},
   "outputs": [],
   "source": [
    "m.to_csv('dd_report.csv', index=False)"
   ]
  },
  {
   "cell_type": "code",
   "execution_count": null,
   "metadata": {},
   "outputs": [],
   "source": []
  }
 ],
 "metadata": {
  "kernelspec": {
   "display_name": "Python 3",
   "language": "python",
   "name": "python3"
  },
  "language_info": {
   "codemirror_mode": {
    "name": "ipython",
    "version": 3
   },
   "file_extension": ".py",
   "mimetype": "text/x-python",
   "name": "python",
   "nbconvert_exporter": "python",
   "pygments_lexer": "ipython3",
   "version": "3.7.4"
  }
 },
 "nbformat": 4,
 "nbformat_minor": 2
}
