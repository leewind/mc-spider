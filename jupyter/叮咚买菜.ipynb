{
 "cells": [
  {
   "cell_type": "code",
   "execution_count": null,
   "metadata": {},
   "outputs": [],
   "source": [
    "import requests\n",
    "import pandas as pd\n",
    "import time\n",
    "import json\n",
    "import geohash\n",
    "from util import GisTransform\n",
    "\n",
    "gis = GisTransform('wgs84', 'gcj02')"
   ]
  },
  {
   "cell_type": "markdown",
   "metadata": {},
   "source": [
    "# 接口"
   ]
  },
  {
   "cell_type": "code",
   "execution_count": null,
   "metadata": {},
   "outputs": [],
   "source": [
    "url = \"https://sunquan.api.ddxq.mobi/api/v1/user/location/\"\n",
    "headers = {\n",
    "    'accept': 'text/html,application/xhtml+xml,application/xml;q=0.9,image/avif,image/webp,image/apng,*/*;q=0.8,application/signed-exchange;v=b3;q=0.9',\n",
    "    'accept-encoding': 'gzip, deflate, br',\n",
    "    'accept-language': 'zh-CN,zh;q=0.9,en;q=0.8,ja;q=0.7,ko;q=0.6,zh-TW;q=0.5',\n",
    "    'cache-control': 'max-age=0',\n",
    "    'if-none-match': 'W/\"9f2456c0e4b5adf38379c17aa3ef790e\"',\n",
    "    'sec-fetch-dest':'document',\n",
    "    'sec-fetch-mode': 'navigate',\n",
    "    'sec-fetch-site': 'none',\n",
    "    'sec-fetch-user': '?1',\n",
    "    'upgrade-insecure-requests': '1',\n",
    "    'user-agent': 'Mozilla/5.0 (iPhone; CPU iPhone OS 13_2_3 like Mac OS X) AppleWebKit/605.1.15 (KHTML, like Gecko) Version/13.0.3 Mobile/15E148 Safari/604.1'\n",
    "}\n",
    "\n",
    "cookies = {\n",
    "    \"DDXQSESSID\":\"805c0b64a9c7f0700e9a1632b284f265\"\n",
    "}\n",
    "\n",
    "params = {\n",
    "    \"uid\":\"\",\n",
    "    \"longitude\":121.511318,\n",
    "    \"latitude\":31.075812,\n",
    "    \"station_id\":\"5c2f3b54716de13e768b9cc2\",\n",
    "    \"city_number\":\"0101\",\n",
    "    \"api_version\":\"9.16.0\",\n",
    "    \"benchmarkLevel\":5,\n",
    "    \"language\":\"zh_CN\",\n",
    "    \"wifiEnabled\":True,\n",
    "    \"safeArea\":'{\"bottom\":667,\"height\":647,\"top\":20,\"width\":375,\"left\":0,\"right\":375}',\n",
    "    \"bluetoothEnabled\":True,\n",
    "    \"locationAuthorized\":True,\n",
    "    \"deviceOrientation\":\"portrait\",\n",
    "    \"notificationSoundAuthorized\":True,\n",
    "    \"screenHeight\":667,\n",
    "    \"windowHeight\":619,\n",
    "    \"version\":\"7.0.15\",\n",
    "    \"fontSizeSetting\":17,\n",
    "    \"system\":\"iOS%2012.4.8\",\n",
    "    \"notificationAuthorized\":True,\n",
    "    \"statusBarHeight\":20,\n",
    "    \"pixelRatio\":2,\n",
    "    \"windowWidth\":375,\n",
    "    \"notificationBadgeAuthorized\":True,\n",
    "    \"locationEnabled\":True,\n",
    "    \"model\":\"iPhone%206%3CiPhone7%2C2%3E\",\n",
    "    \"batteryLevel\":41,\n",
    "    \"screenWidth\":375,\n",
    "    \"screenTop\":0,\n",
    "    \"microphoneAuthorized\":True,\n",
    "    \"cameraAuthorized\":True,\n",
    "    \"albumAuthorized\":True,\n",
    "    \"notificationAlertAuthorized\":True,\n",
    "    \"brand\":\"iPhone\",\n",
    "    \"platform\":\"ios\",\n",
    "    \"SDKVersion\":\"2.13.1\",\n",
    "    \"devicePixelRatio\":2,\n",
    "    \"host\":'{\"env\":\"WeChat\",\"appId\":\"\",\"version\":385879857}',\n",
    "    \"safeAreaInsets\":'{\"top\":20,\"left\":0,\"right\":0,\"bottom\":-48}',\n",
    "    \"channel\":\"applet\",\n",
    "    \"app_client_id\":4,\n",
    "    \"app_version\":\"2.10.0\",\n",
    "    \"sharer_uid\":\"\",\n",
    "    \"s_id\":\"805c0b64a9c7f0700e9a1632b284f265\",\n",
    "    \"openid\":\"osP8I0cxouUJGlOzFW4n53pZqrbs\",\n",
    "    \"h5_source\":\"\",\n",
    "    \"lat\":31.228103,\n",
    "    \"lng\":121.453488\n",
    "}\n",
    "\n",
    "r = requests.get(url, headers=headers, params=params)\n",
    "\n",
    "r.text\n"
   ]
  },
  {
   "cell_type": "markdown",
   "metadata": {},
   "source": [
    "这一组返回的结果里面如果station_id有值，说明就是有对应的配送站点可以配送"
   ]
  },
  {
   "cell_type": "markdown",
   "metadata": {},
   "source": [
    "# 爬虫"
   ]
  },
  {
   "cell_type": "code",
   "execution_count": null,
   "metadata": {},
   "outputs": [],
   "source": [
    "df = pd.read_csv('temp_dw_ai_normal_deliver_range_aoi_basic_shaoxing_20201011_1603284421564.txt')"
   ]
  },
  {
   "cell_type": "code",
   "execution_count": null,
   "metadata": {},
   "outputs": [],
   "source": [
    "def encode(row):\n",
    "    pair = gis.gcj02_to_wgs84(row['lng'], row['lat'])\n",
    "    return geohash.encode(pair[1],pair[0], precision=6)\n",
    "\n",
    "df['geohash'] = df.apply(lambda row: encode(row), axis=1)"
   ]
  },
  {
   "cell_type": "code",
   "execution_count": null,
   "metadata": {},
   "outputs": [],
   "source": [
    "df['district_name'].drop_duplicates()"
   ]
  },
  {
   "cell_type": "code",
   "execution_count": null,
   "metadata": {},
   "outputs": [],
   "source": [
    "def get_address_list(lng, lat):\n",
    "    url = \"https://sunquan.api.ddxq.mobi/api/v1/user/location/\"\n",
    "    headers = {\n",
    "        'accept': 'text/html,application/xhtml+xml,application/xml;q=0.9,image/avif,image/webp,image/apng,*/*;q=0.8,application/signed-exchange;v=b3;q=0.9',\n",
    "        'accept-encoding': 'gzip, deflate, br',\n",
    "        'accept-language': 'zh-CN,zh;q=0.9,en;q=0.8,ja;q=0.7,ko;q=0.6,zh-TW;q=0.5',\n",
    "        'cache-control': 'max-age=0',\n",
    "        'if-none-match': 'W/\"9f2456c0e4b5adf38379c17aa3ef790e\"',\n",
    "        'sec-fetch-dest':'document',\n",
    "        'sec-fetch-mode': 'navigate',\n",
    "        'sec-fetch-site': 'none',\n",
    "        'sec-fetch-user': '?1',\n",
    "        'upgrade-insecure-requests': '1',\n",
    "        'user-agent': 'Mozilla/5.0 (iPhone; CPU iPhone OS 13_2_3 like Mac OS X) AppleWebKit/605.1.15 (KHTML, like Gecko) Version/13.0.3 Mobile/15E148 Safari/604.1'\n",
    "    }\n",
    "\n",
    "    cookies = {\n",
    "        \"DDXQSESSID\":\"805c0b64a9c7f0700e9a1632b284f265\"\n",
    "    }\n",
    "\n",
    "    params = {\n",
    "        \"uid\":\"\",\n",
    "        \"longitude\":121.511318,\n",
    "        \"latitude\":31.075812,\n",
    "        \"station_id\":\"5c2f3b54716de13e768b9cc2\",\n",
    "        \"city_number\":\"0101\",\n",
    "        \"api_version\":\"9.16.0\",\n",
    "        \"benchmarkLevel\":5,\n",
    "        \"language\":\"zh_CN\",\n",
    "        \"wifiEnabled\":True,\n",
    "        \"safeArea\":'{\"bottom\":667,\"height\":647,\"top\":20,\"width\":375,\"left\":0,\"right\":375}',\n",
    "        \"bluetoothEnabled\":True,\n",
    "        \"locationAuthorized\":True,\n",
    "        \"deviceOrientation\":\"portrait\",\n",
    "        \"notificationSoundAuthorized\":True,\n",
    "        \"screenHeight\":667,\n",
    "        \"windowHeight\":619,\n",
    "        \"version\":\"7.0.15\",\n",
    "        \"fontSizeSetting\":17,\n",
    "        \"system\":\"iOS%2012.4.8\",\n",
    "        \"notificationAuthorized\":True,\n",
    "        \"statusBarHeight\":20,\n",
    "        \"pixelRatio\":2,\n",
    "        \"windowWidth\":375,\n",
    "        \"notificationBadgeAuthorized\":True,\n",
    "        \"locationEnabled\":True,\n",
    "        \"model\":\"iPhone%206%3CiPhone7%2C2%3E\",\n",
    "        \"batteryLevel\":41,\n",
    "        \"screenWidth\":375,\n",
    "        \"screenTop\":0,\n",
    "        \"microphoneAuthorized\":True,\n",
    "        \"cameraAuthorized\":True,\n",
    "        \"albumAuthorized\":True,\n",
    "        \"notificationAlertAuthorized\":True,\n",
    "        \"brand\":\"iPhone\",\n",
    "        \"platform\":\"ios\",\n",
    "        \"SDKVersion\":\"2.13.1\",\n",
    "        \"devicePixelRatio\":2,\n",
    "        \"host\":'{\"env\":\"WeChat\",\"appId\":\"\",\"version\":385879857}',\n",
    "        \"safeAreaInsets\":'{\"top\":20,\"left\":0,\"right\":0,\"bottom\":-48}',\n",
    "        \"channel\":\"applet\",\n",
    "        \"app_client_id\":4,\n",
    "        \"app_version\":\"2.10.0\",\n",
    "        \"sharer_uid\":\"\",\n",
    "        \"s_id\":\"805c0b64a9c7f0700e9a1632b284f265\",\n",
    "        \"openid\":\"osP8I0cxouUJGlOzFW4n53pZqrbs\",\n",
    "        \"h5_source\":\"\",\n",
    "        \"lat\":lat,\n",
    "        \"lng\":lng\n",
    "    }\n",
    "\n",
    "    r = requests.get(url, headers=headers, params=params)\n",
    "    return json.loads(r.text)\n"
   ]
  },
  {
   "cell_type": "code",
   "execution_count": null,
   "metadata": {
    "scrolled": false
   },
   "outputs": [],
   "source": [
    "get_address_list(104.003, 30.544)"
   ]
  },
  {
   "cell_type": "code",
   "execution_count": null,
   "metadata": {},
   "outputs": [],
   "source": [
    "for index, value in df[df['district_name'].isin(['柯桥区', '越城区', '上虞区'])].iterrows():\n",
    "        \n",
    "    partial = pd.read_csv('dd_spider.csv')\n",
    "    if len(partial) > 0 and value['id'] in partial['id'].values:\n",
    "        print('jump')\n",
    "        continue\n",
    "        \n",
    "    record = get_address_list(value['lng'], value['lat'])\n",
    "    stations = record['data']['around_addresses']\n",
    "    \n",
    "    if len(stations) == 0:\n",
    "        continue\n",
    "    \n",
    "    station = stations[0]\n",
    "    m = df[df['geohash'] == value['geohash']][['id', 'geohash']]\n",
    "    \n",
    "    if station == '':\n",
    "        m['is_dispatch'] = 0\n",
    "        m['station_id'] = None\n",
    "    else:\n",
    "        m['is_dispatch'] = 1\n",
    "        m['station_id'] = station['station_id']\n",
    "    \n",
    "    \n",
    "#     m.to_csv('dd_spider.csv', index=False)\n",
    "#     break\n",
    "    \n",
    "    partial.append(m, ignore_index=True).to_csv('dd_spider.csv', index=False)\n",
    "    time.sleep(1)"
   ]
  },
  {
   "cell_type": "code",
   "execution_count": 37,
   "metadata": {},
   "outputs": [
    {
     "data": {
      "text/plain": [
       "951"
      ]
     },
     "execution_count": 37,
     "metadata": {},
     "output_type": "execute_result"
    }
   ],
   "source": [
    "len(partial['geohash'].drop_duplicates())"
   ]
  },
  {
   "cell_type": "code",
   "execution_count": null,
   "metadata": {},
   "outputs": [],
   "source": []
  }
 ],
 "metadata": {
  "kernelspec": {
   "display_name": "Python 3",
   "language": "python",
   "name": "python3"
  },
  "language_info": {
   "codemirror_mode": {
    "name": "ipython",
    "version": 3
   },
   "file_extension": ".py",
   "mimetype": "text/x-python",
   "name": "python",
   "nbconvert_exporter": "python",
   "pygments_lexer": "ipython3",
   "version": "3.7.4"
  }
 },
 "nbformat": 4,
 "nbformat_minor": 2
}
