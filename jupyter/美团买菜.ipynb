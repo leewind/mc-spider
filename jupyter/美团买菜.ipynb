{
 "cells": [
  {
   "cell_type": "code",
   "execution_count": 7,
   "metadata": {},
   "outputs": [],
   "source": [
    "import requests\n",
    "import pandas as pd\n",
    "import time\n",
    "import json"
   ]
  },
  {
   "cell_type": "markdown",
   "metadata": {},
   "source": [
    "# 接口"
   ]
  },
  {
   "cell_type": "code",
   "execution_count": 2,
   "metadata": {},
   "outputs": [],
   "source": [
    "url = 'https://mall.meituan.com/api/c/location/keyword/lbs/v2'\n",
    "\n",
    "headers = {\n",
    "    'Accept': 'text/html,application/xhtml+xml,application/xml;q=0.9,image/avif,image/webp,image/apng,*/*;q=0.8,application/signed-exchange;v=b3;q=0.9',\n",
    "    'Accept-Encoding': 'gzip, deflate, br',\n",
    "    'Accept-Language': 'zh-CN,zh;q=0.9,en;q=0.8,ja;q=0.7,ko;q=0.6,zh-TW;q=0.5',\n",
    "    'Cache-Control': 'max-age=0',\n",
    "    'Connection': 'keep-alive',\n",
    "    'Host': 'mall.meituan.com',\n",
    "    'Sec-Fetch-Dest': 'document',\n",
    "    'Sec-Fetch-Mode': 'navigate',\n",
    "    'Sec-Fetch-Site': 'none',\n",
    "    'Sec-Fetch-User': '?1',\n",
    "    'Upgrade-Insecure-Requests': '1',\n",
    "    'User-Agent': 'Mozilla/5.0 (iPhone; CPU iPhone OS 13_2_3 like Mac OS X) AppleWebKit/605.1.15 (KHTML, like Gecko) Version/13.0.3 Mobile/15E148 Safari/604.1',\n",
    "}\n",
    "\n",
    "params = {\n",
    "    'uuid': '174f2833e7ac8-9892463870c350-0-3d10d-174f2833e7ac8',\n",
    "    'utm_medium': 'wxapp',\n",
    "    'brand': 'xiaoxiangmaicai',\n",
    "    'tenantId': 1,\n",
    "    'homepageLng': 117.1392822265625,\n",
    "    'homepageLat': 39.124141693115234,\n",
    "    'utm_term': '5.8.0',\n",
    "    'cityId': 10,\n",
    "    'cityName': '天津市',\n",
    "    'keyword': '密云路',\n",
    "    'sysName': 'iOS',\n",
    "    'sysVerion': '12.4.8',\n",
    "    'app_tag': 'union'\n",
    "}\n",
    "\n",
    "r = requests.get(url, headers=headers, params=params)"
   ]
  },
  {
   "cell_type": "code",
   "execution_count": 3,
   "metadata": {},
   "outputs": [
    {
     "data": {
      "text/plain": [
       "'{\"code\":0,\"data\":{\"addressList\":[{\"name\":\"密云路-入口\",\"address\":\"西青区天津市西青区\",\"latitude\":39.153978,\"longitude\":117.126195,\"isDispatch\":0,\"distance\":1.2313391E7},{\"name\":\"密云路-入口\",\"address\":\"西青区天津市西青区\",\"latitude\":39.147882,\"longitude\":117.126264,\"isDispatch\":0,\"distance\":1.2313605E7},{\"name\":\"密云路-入口\",\"address\":\"南开区天津市南开区\",\"latitude\":39.144485,\"longitude\":117.126257,\"isDispatch\":0,\"distance\":1.2313721E7},{\"name\":\"密云路-入口\",\"address\":\"南开区天津市南开区\",\"latitude\":39.130754,\"longitude\":117.122771,\"isDispatch\":0,\"distance\":1.2313905E7},{\"name\":\"密云路茶城\",\"address\":\"南开区密云路30号\",\"latitude\":39.131248,\"longitude\":117.122214,\"isDispatch\":0},{\"name\":\"密云路综合市场\",\"address\":\"西青区密云路66号\",\"latitude\":39.147781,\"longitude\":117.125931,\"isDispatch\":0},{\"name\":\"密云路美甲\",\"address\":\"南开区物美超市黄河道店一楼\",\"latitude\":39.137016,\"longitude\":117.127216,\"isDispatch\":0},{\"name\":\"密云路停车场\",\"address\":\"红桥区前园道与杨庄子大街交叉口西北50米\",\"latitude\":39.151623,\"longitude\":117.131193,\"isDispatch\":0},{\"name\":\"密云路商场\",\"address\":\"南开区沁水道70号\",\"latitude\":39.143537,\"longitude\":117.127758,\"isDispatch\":0},{\"name\":\"芥园西道与密云路交叉口\",\"address\":\"南开区天津市南开区\",\"latitude\":39.145271,\"longitude\":117.126301,\"isDispatch\":0},{\"name\":\"密云路6\",\"address\":\"南开区天津市南开区向阳路街道\",\"latitude\":39.146416,\"longitude\":117.125786,\"isDispatch\":0},{\"name\":\"天平路与密云路交叉口\",\"address\":\"红桥区天津市红桥区\",\"latitude\":39.158866,\"longitude\":117.126596,\"isDispatch\":0},{\"name\":\"长江道与密云路交叉口\",\"address\":\"南开区天津市南开区\",\"latitude\":39.130622,\"longitude\":117.126342,\"isDispatch\":0},{\"name\":\"简阳路与密云路交叉口\",\"address\":\"西青区天津市西青区\",\"latitude\":39.108978,\"longitude\":117.131578,\"isDispatch\":0},{\"name\":\"西青道与密云路交叉口\",\"address\":\"西青区天津市西青区\",\"latitude\":39.153661,\"longitude\":117.126281,\"isDispatch\":0},{\"name\":\"密云路-入口\",\"address\":\"南开区天津市南开区\",\"latitude\":39.146414,\"longitude\":117.126691,\"isDispatch\":0},{\"name\":\"密云路-入口\",\"address\":\"南开区天津市南开区\",\"latitude\":39.142708,\"longitude\":117.126675,\"isDispatch\":0},{\"name\":\"密云路-入口\",\"address\":\"西青区天津市西青区\",\"latitude\":39.116361,\"longitude\":117.131502,\"isDispatch\":0},{\"name\":\"密云一支路与密云路交叉口\",\"address\":\"南开区天津市南开区\",\"latitude\":39.134496,\"longitude\":117.125786,\"isDispatch\":0},{\"name\":\"密云路肿瘤门诊\",\"address\":\"南开区汾水道102号\",\"latitude\":39.141496,\"longitude\":117.125136,\"isDispatch\":0}]}}'"
      ]
     },
     "execution_count": 3,
     "metadata": {},
     "output_type": "execute_result"
    }
   ],
   "source": [
    "r.text"
   ]
  },
  {
   "cell_type": "markdown",
   "metadata": {},
   "source": [
    "# 爬虫"
   ]
  },
  {
   "cell_type": "code",
   "execution_count": 4,
   "metadata": {},
   "outputs": [],
   "source": [
    "df = pd.read_csv('temp_dw_ai_normal_deliver_range_aoi_basic_chengdu_20200929_1601451326255.txt')"
   ]
  },
  {
   "cell_type": "code",
   "execution_count": 5,
   "metadata": {},
   "outputs": [],
   "source": [
    "def get_address_list(lng, lat, city, keyword):\n",
    "    url = 'https://mall.meituan.com/api/c/location/keyword/lbs/v2'\n",
    "\n",
    "    headers = {\n",
    "        'Accept': 'text/html,application/xhtml+xml,application/xml;q=0.9,image/avif,image/webp,image/apng,*/*;q=0.8,application/signed-exchange;v=b3;q=0.9',\n",
    "        'Accept-Encoding': 'gzip, deflate, br',\n",
    "        'Accept-Language': 'zh-CN,zh;q=0.9,en;q=0.8,ja;q=0.7,ko;q=0.6,zh-TW;q=0.5',\n",
    "        'Cache-Control': 'max-age=0',\n",
    "        'Connection': 'keep-alive',\n",
    "        'Host': 'mall.meituan.com',\n",
    "        'Sec-Fetch-Dest': 'document',\n",
    "        'Sec-Fetch-Mode': 'navigate',\n",
    "        'Sec-Fetch-Site': 'none',\n",
    "        'Sec-Fetch-User': '?1',\n",
    "        'Upgrade-Insecure-Requests': '1',\n",
    "        'User-Agent': 'Mozilla/5.0 (iPhone; CPU iPhone OS 13_2_3 like Mac OS X) AppleWebKit/605.1.15 (KHTML, like Gecko) Version/13.0.3 Mobile/15E148 Safari/604.1',\n",
    "    }\n",
    "\n",
    "    params = {\n",
    "        'uuid': '174f2833e7ac8-9892463870c350-0-3d10d-174f2833e7ac8',\n",
    "        'utm_medium': 'wxapp',\n",
    "        'brand': 'xiaoxiangmaicai',\n",
    "        'tenantId': 1,\n",
    "        'homepageLng': lng,\n",
    "        'homepageLat': lat,\n",
    "        'utm_term': '5.8.0',\n",
    "        'cityId': 10,\n",
    "        'cityName': city,\n",
    "        'keyword': keyword,\n",
    "        'sysName': 'iOS',\n",
    "        'sysVerion': '12.4.8',\n",
    "        'app_tag': 'union'\n",
    "    }\n",
    "\n",
    "    r = requests.get(url, headers=headers, params=params)\n",
    "    \n",
    "    return json.loads(r.text)\n",
    "    "
   ]
  },
  {
   "cell_type": "code",
   "execution_count": 8,
   "metadata": {},
   "outputs": [
    {
     "data": {
      "text/plain": [
       "{'code': 0,\n",
       " 'data': {'addressList': [{'name': '白家场镇幼儿园',\n",
       "    'address': '双流区文化街二段78号',\n",
       "    'latitude': 30.544029,\n",
       "    'longitude': 104.002783,\n",
       "    'isDispatch': 0},\n",
       "   {'name': '白家场镇幼儿园-东南门',\n",
       "    'address': '双流区西航港文化街二段79号西北方向42米',\n",
       "    'latitude': 30.543872,\n",
       "    'longitude': 104.002881,\n",
       "    'isDispatch': 0}]}}"
      ]
     },
     "execution_count": 8,
     "metadata": {},
     "output_type": "execute_result"
    }
   ],
   "source": [
    "get_address_list(104.003, 30.544, '成都', '白家场镇幼儿园')"
   ]
  },
  {
   "cell_type": "code",
   "execution_count": null,
   "metadata": {
    "scrolled": false
   },
   "outputs": [],
   "source": [
    "arr = []\n",
    "for index, value in df.iterrows():\n",
    "    print(value['id'], value['name'])\n",
    "    try:\n",
    "        result = get_address_list(value['lng'], value['lat'], value['city_name'], value['name'])\n",
    "        print(result)\n",
    "        if len(result['data']['addressList']) > 0:\n",
    "            arr.append({\n",
    "                'id': value['id'],\n",
    "                'is_dispatch': result['data']['addressList'][0]['isDispatch']\n",
    "            })\n",
    "        else:\n",
    "            arr.append({\n",
    "                'id': value['id'],\n",
    "                'is_dispatch': 0\n",
    "            })\n",
    "    except:\n",
    "        arr.append({\n",
    "            'id': value['id'],\n",
    "            'is_dispatch': -1\n",
    "        })\n",
    "    \n",
    "    time.sleep(1)\n"
   ]
  },
  {
   "cell_type": "code",
   "execution_count": null,
   "metadata": {},
   "outputs": [],
   "source": [
    "m = pd.DataFrame(arr)\n",
    "m['is_dispatch'].drop_duplicates()"
   ]
  },
  {
   "cell_type": "markdown",
   "metadata": {},
   "source": [
    "# 获取站点信息"
   ]
  },
  {
   "cell_type": "markdown",
   "metadata": {},
   "source": [
    "+ https://mall.meituan.com/api/c/poi/location/lbs/v2?uuid=174f2833e7ac8-9892463870c350-0-3d10d-174f2833e7ac8&utm_medium=wxapp&brand=xiaoxiangmaicai&tenantId=1&homepageLng=121.38259887695312&homepageLat=31.233034133911133&utm_term=5.10.0&longitude=121.38259887695312&latitude=31.233034133911133&strategy=0&needFilterSelfPoi=false&openId=oV_5G45ytgCKHRiTNiOzZFdSx3v0&sysName=iOS&sysVerion=12.4.8&app_tag=union&uci=1\n",
    "\n",
    "这个接口会告诉你附件有哪些站点，这样就可以探测了"
   ]
  },
  {
   "cell_type": "code",
   "execution_count": null,
   "metadata": {},
   "outputs": [],
   "source": []
  }
 ],
 "metadata": {
  "kernelspec": {
   "display_name": "Python 3",
   "language": "python",
   "name": "python3"
  },
  "language_info": {
   "codemirror_mode": {
    "name": "ipython",
    "version": 3
   },
   "file_extension": ".py",
   "mimetype": "text/x-python",
   "name": "python",
   "nbconvert_exporter": "python",
   "pygments_lexer": "ipython3",
   "version": "3.7.4"
  }
 },
 "nbformat": 4,
 "nbformat_minor": 2
}
