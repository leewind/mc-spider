{
 "cells": [
  {
   "cell_type": "code",
   "execution_count": null,
   "metadata": {},
   "outputs": [],
   "source": [
    "import requests\n",
    "import pandas as pd\n",
    "import time"
   ]
  },
  {
   "cell_type": "markdown",
   "metadata": {},
   "source": [
    "# 接口"
   ]
  },
  {
   "cell_type": "code",
   "execution_count": null,
   "metadata": {},
   "outputs": [],
   "source": [
    "url = 'https://mall.meituan.com/api/c/location/keyword/lbs/v2'\n",
    "\n",
    "headers = {\n",
    "    'Accept': 'text/html,application/xhtml+xml,application/xml;q=0.9,image/avif,image/webp,image/apng,*/*;q=0.8,application/signed-exchange;v=b3;q=0.9',\n",
    "    'Accept-Encoding': 'gzip, deflate, br',\n",
    "    'Accept-Language': 'zh-CN,zh;q=0.9,en;q=0.8,ja;q=0.7,ko;q=0.6,zh-TW;q=0.5',\n",
    "    'Cache-Control': 'max-age=0',\n",
    "    'Connection': 'keep-alive',\n",
    "    'Host': 'mall.meituan.com',\n",
    "    'Sec-Fetch-Dest': 'document',\n",
    "    'Sec-Fetch-Mode': 'navigate',\n",
    "    'Sec-Fetch-Site': 'none',\n",
    "    'Sec-Fetch-User': '?1',\n",
    "    'Upgrade-Insecure-Requests': '1',\n",
    "    'User-Agent': 'Mozilla/5.0 (iPhone; CPU iPhone OS 13_2_3 like Mac OS X) AppleWebKit/605.1.15 (KHTML, like Gecko) Version/13.0.3 Mobile/15E148 Safari/604.1',\n",
    "}\n",
    "\n",
    "params = {\n",
    "    'uuid': '174f2833e7ac8-9892463870c350-0-3d10d-174f2833e7ac8',\n",
    "    'utm_medium': 'wxapp',\n",
    "    'brand': 'xiaoxiangmaicai',\n",
    "    'tenantId': 1,\n",
    "    'homepageLng': 117.1392822265625,\n",
    "    'homepageLat': 39.124141693115234,\n",
    "    'utm_term': '5.8.0',\n",
    "    'cityId': 10,\n",
    "    'cityName': '天津市',\n",
    "    'keyword': '密云路',\n",
    "    'sysName': 'iOS',\n",
    "    'sysVerion': '12.4.8',\n",
    "    'app_tag': 'union'\n",
    "}\n",
    "\n",
    "r = requests.get(url, headers=headers, params=params)"
   ]
  },
  {
   "cell_type": "code",
   "execution_count": null,
   "metadata": {},
   "outputs": [],
   "source": [
    "r.text"
   ]
  },
  {
   "cell_type": "markdown",
   "metadata": {},
   "source": [
    "# 爬虫"
   ]
  },
  {
   "cell_type": "code",
   "execution_count": null,
   "metadata": {},
   "outputs": [],
   "source": [
    "df = pd.read_csv('temp_dw_ai_normal_deliver_range_aoi_basic_chengdu_20200929_1601451326255.txt')"
   ]
  },
  {
   "cell_type": "code",
   "execution_count": null,
   "metadata": {},
   "outputs": [],
   "source": [
    "def get_address_list(lng, lat, city, keyword):\n",
    "    url = 'https://mall.meituan.com/api/c/location/keyword/lbs/v2'\n",
    "\n",
    "    headers = {\n",
    "        'Accept': 'text/html,application/xhtml+xml,application/xml;q=0.9,image/avif,image/webp,image/apng,*/*;q=0.8,application/signed-exchange;v=b3;q=0.9',\n",
    "        'Accept-Encoding': 'gzip, deflate, br',\n",
    "        'Accept-Language': 'zh-CN,zh;q=0.9,en;q=0.8,ja;q=0.7,ko;q=0.6,zh-TW;q=0.5',\n",
    "        'Cache-Control': 'max-age=0',\n",
    "        'Connection': 'keep-alive',\n",
    "        'Host': 'mall.meituan.com',\n",
    "        'Sec-Fetch-Dest': 'document',\n",
    "        'Sec-Fetch-Mode': 'navigate',\n",
    "        'Sec-Fetch-Site': 'none',\n",
    "        'Sec-Fetch-User': '?1',\n",
    "        'Upgrade-Insecure-Requests': '1',\n",
    "        'User-Agent': 'Mozilla/5.0 (iPhone; CPU iPhone OS 13_2_3 like Mac OS X) AppleWebKit/605.1.15 (KHTML, like Gecko) Version/13.0.3 Mobile/15E148 Safari/604.1',\n",
    "    }\n",
    "\n",
    "    params = {\n",
    "        'uuid': '174f2833e7ac8-9892463870c350-0-3d10d-174f2833e7ac8',\n",
    "        'utm_medium': 'wxapp',\n",
    "        'brand': 'xiaoxiangmaicai',\n",
    "        'tenantId': 1,\n",
    "        'homepageLng': lng,\n",
    "        'homepageLat': lat,\n",
    "        'utm_term': '5.8.0',\n",
    "        'cityId': 10,\n",
    "        'cityName': city,\n",
    "        'keyword': keyword,\n",
    "        'sysName': 'iOS',\n",
    "        'sysVerion': '12.4.8',\n",
    "        'app_tag': 'union'\n",
    "    }\n",
    "\n",
    "    r = requests.get(url, headers=headers, params=params)\n",
    "    \n",
    "    return json.loads(r.text)\n",
    "    "
   ]
  },
  {
   "cell_type": "code",
   "execution_count": null,
   "metadata": {},
   "outputs": [],
   "source": [
    "get_address_list(104.003, 30.544, '成都', '白家场镇幼儿园')"
   ]
  },
  {
   "cell_type": "code",
   "execution_count": null,
   "metadata": {
    "scrolled": false
   },
   "outputs": [],
   "source": [
    "arr = []\n",
    "for index, value in df.iterrows():\n",
    "    print(value['id'], value['name'])\n",
    "    try:\n",
    "        result = get_address_list(value['lng'], value['lat'], value['city_name'], value['name'])\n",
    "        print(result)\n",
    "        if len(result['data']['addressList']) > 0:\n",
    "            arr.append({\n",
    "                'id': value['id'],\n",
    "                'is_dispatch': result['data']['addressList'][0]['isDispatch']\n",
    "            })\n",
    "        else:\n",
    "            arr.append({\n",
    "                'id': value['id'],\n",
    "                'is_dispatch': 0\n",
    "            })\n",
    "    except:\n",
    "        arr.append({\n",
    "            'id': value['id'],\n",
    "            'is_dispatch': -1\n",
    "        })\n",
    "    \n",
    "    time.sleep(1)\n"
   ]
  },
  {
   "cell_type": "code",
   "execution_count": null,
   "metadata": {},
   "outputs": [],
   "source": [
    "m = pd.DataFrame(arr)\n",
    "m['is_dispatch'].drop_duplicates()"
   ]
  }
 ],
 "metadata": {
  "kernelspec": {
   "display_name": "Python 3",
   "language": "python",
   "name": "python3"
  },
  "language_info": {
   "codemirror_mode": {
    "name": "ipython",
    "version": 3
   },
   "file_extension": ".py",
   "mimetype": "text/x-python",
   "name": "python",
   "nbconvert_exporter": "python",
   "pygments_lexer": "ipython3",
   "version": "3.7.4"
  }
 },
 "nbformat": 4,
 "nbformat_minor": 2
}
